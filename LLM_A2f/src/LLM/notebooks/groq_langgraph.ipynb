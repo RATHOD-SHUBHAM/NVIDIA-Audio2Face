{
  "nbformat": 4,
  "nbformat_minor": 0,
  "metadata": {
    "colab": {
      "provenance": []
    },
    "kernelspec": {
      "name": "python3",
      "display_name": "Python 3"
    },
    "language_info": {
      "name": "python"
    }
  },
  "cells": [
    {
      "cell_type": "code",
      "execution_count": null,
      "metadata": {
        "id": "cwo9n5U7j_xe"
      },
      "outputs": [],
      "source": [
        "!pip install -qU langchain langchain-core langchain-community langchain-experimental langchain-groq langgraph langsmith"
      ]
    },
    {
      "cell_type": "code",
      "source": [],
      "metadata": {
        "id": "7dSodhHOlgOI"
      },
      "execution_count": null,
      "outputs": []
    },
    {
      "cell_type": "markdown",
      "source": [
        "# Environment Setup"
      ],
      "metadata": {
        "id": "pRR1cp-mlnSl"
      }
    },
    {
      "cell_type": "code",
      "source": [
        "import os\n",
        "from google.colab import userdata\n",
        "\n",
        "os.environ['GROQ_API_KEY'] = userdata.get('GROQ_API_KEY')\n",
        "os.environ['LANGSMITH_API_KEY'] = userdata.get('LANGSMITH_API_KEY')"
      ],
      "metadata": {
        "id": "w_x7H3X0lqOF"
      },
      "execution_count": null,
      "outputs": []
    },
    {
      "cell_type": "code",
      "source": [],
      "metadata": {
        "id": "vOr-gQALlqrg"
      },
      "execution_count": null,
      "outputs": []
    },
    {
      "cell_type": "markdown",
      "source": [
        "# Set up Langsmith project"
      ],
      "metadata": {
        "id": "3mALPxDCl86A"
      }
    },
    {
      "cell_type": "code",
      "source": [
        "os.environ['LANGCHAIN_API_KEY'] = userdata.get('LANGSMITH_API_KEY')\n",
        "os.environ['LANGSMITH_TRACING'] = \"true\"\n",
        "os.environ[\"LANGCHAIN_PROJECT\"] = \"MultiAgentChatbot\""
      ],
      "metadata": {
        "id": "FRY3UY0sl_r6"
      },
      "execution_count": null,
      "outputs": []
    },
    {
      "cell_type": "code",
      "source": [],
      "metadata": {
        "id": "WFkBwOpsmE_u"
      },
      "execution_count": null,
      "outputs": []
    },
    {
      "cell_type": "markdown",
      "source": [
        "# Set up the LLM model"
      ],
      "metadata": {
        "id": "gGEtPBowmHaJ"
      }
    },
    {
      "cell_type": "code",
      "source": [
        "from langchain_groq import ChatGroq\n",
        "\n",
        "llm = ChatGroq(\n",
        "    model = 'mixtral-8x7b-32768',\n",
        "    temperature=0.0\n",
        ")"
      ],
      "metadata": {
        "id": "kfJxpi-FmJJx"
      },
      "execution_count": null,
      "outputs": []
    },
    {
      "cell_type": "code",
      "source": [],
      "metadata": {
        "id": "vOYhftECmOAH"
      },
      "execution_count": null,
      "outputs": []
    },
    {
      "cell_type": "code",
      "source": [],
      "metadata": {
        "id": "MixEKiRUnPLu"
      },
      "execution_count": null,
      "outputs": []
    },
    {
      "cell_type": "markdown",
      "source": [
        "# Setting up the tools\n",
        "\n",
        "[wikipedia](https://python.langchain.com/docs/how_to/tools_builtin/)"
      ],
      "metadata": {
        "id": "ZkXTB7LJnoM_"
      }
    },
    {
      "cell_type": "code",
      "source": [
        "!pip install -qU langchain-community wikipedia"
      ],
      "metadata": {
        "id": "GmJwcK8unqSF"
      },
      "execution_count": null,
      "outputs": []
    },
    {
      "cell_type": "code",
      "source": [
        "from langchain_community.tools import WikipediaQueryRun\n",
        "from langchain_community.utilities import WikipediaAPIWrapper"
      ],
      "metadata": {
        "id": "ldvDIRkSnsT2"
      },
      "execution_count": null,
      "outputs": []
    },
    {
      "cell_type": "code",
      "source": [
        "wiki_api_wrapper = WikipediaAPIWrapper(\n",
        "    top_k_results = 1,\n",
        "    doc_content_chars_max=100\n",
        ")\n",
        "\n",
        "wiki_tool = WikipediaQueryRun(api_wrapper = wiki_api_wrapper)"
      ],
      "metadata": {
        "id": "oJNvZHupoZW2"
      },
      "execution_count": null,
      "outputs": []
    },
    {
      "cell_type": "code",
      "source": [
        "print(wiki_tool.invoke({\"query\": \"langchain\"}))"
      ],
      "metadata": {
        "colab": {
          "base_uri": "https://localhost:8080/"
        },
        "id": "1LxhNWw4pUKa",
        "outputId": "5ebddc65-5f17-4caa-8872-e02429acdb55"
      },
      "execution_count": null,
      "outputs": [
        {
          "output_type": "stream",
          "name": "stdout",
          "text": [
            "Page: LangChain\n",
            "Summary: LangChain is a framework designed to simplify the creation of applications \n"
          ]
        }
      ]
    },
    {
      "cell_type": "code",
      "source": [],
      "metadata": {
        "id": "DXGGp44EpXf8"
      },
      "execution_count": null,
      "outputs": []
    },
    {
      "cell_type": "markdown",
      "source": [
        "[Duck Duck Go](https://python.langchain.com/docs/integrations/tools/ddg/)"
      ],
      "metadata": {
        "id": "N5O16qMcpd--"
      }
    },
    {
      "cell_type": "code",
      "source": [
        "%pip install -qU duckduckgo-search langchain-community"
      ],
      "metadata": {
        "id": "0SCCBG4op3ib"
      },
      "execution_count": null,
      "outputs": []
    },
    {
      "cell_type": "code",
      "source": [
        "from langchain_community.utilities import DuckDuckGoSearchAPIWrapper\n",
        "from langchain_community.tools import DuckDuckGoSearchResults\n",
        "\n",
        "search_wrapper = DuckDuckGoSearchAPIWrapper(max_results=2)\n",
        "\n",
        "search_tool = DuckDuckGoSearchResults(api_wrapper=search_wrapper, source=\"news\")"
      ],
      "metadata": {
        "id": "9fVMI8-uph7l"
      },
      "execution_count": null,
      "outputs": []
    },
    {
      "cell_type": "code",
      "source": [
        "print(search_tool.invoke({\"query\": \"openai\"}))"
      ],
      "metadata": {
        "colab": {
          "base_uri": "https://localhost:8080/"
        },
        "id": "70kTBT6mp2FT",
        "outputId": "45db5b37-7960-446d-ffe2-aee64921043b"
      },
      "execution_count": null,
      "outputs": [
        {
          "output_type": "stream",
          "name": "stdout",
          "text": [
            "snippet: Greater productivity. Endless inspiration. Try ChatGPT. We believe our research will eventually lead to artificial general intelligence, a system that can solve human-level problems. Building safe and beneficial AGI is our mission., title: OpenAI, link: https://openai.com/, snippet: OpenAI aims to create safe and beneficial artificial general intelligence (AGI) that can benefit all of humanity. Learn about their mission, vision, research, products, and careers., title: About - OpenAI, link: https://openai.com/about/, snippet: The most powerful platform for building AI products. Build and scale AI experiences powered by industry-leading models and tools. Start building View API pricing. Flagship models. GPT-4o. Our high-intelligence flagship model for complex, multi-step tasks. Text and vision. 128k context length. Input: $5 | Output: $15 . per 1M tokens. Learn more., title: API platform | OpenAI, link: https://openai.com/api/, snippet: DALL·E 2 can create original, realistic images and art from a text description. It can combine concepts, attributes, and styles. In January 2021, OpenAI introduced DALL·E. One year later, our newest system, DALL·E 2, generates more realistic and accurate images with 4x greater resolution., title: DALL·E 2 - OpenAI, link: https://openai.com/index/dall-e-2/\n"
          ]
        }
      ]
    },
    {
      "cell_type": "code",
      "source": [],
      "metadata": {
        "id": "GsMfvv7Dp-dO"
      },
      "execution_count": null,
      "outputs": []
    },
    {
      "cell_type": "markdown",
      "source": [
        "[ArXiv](https://python.langchain.com/docs/integrations/tools/arxiv/)"
      ],
      "metadata": {
        "id": "97jWkHTRqZS9"
      }
    },
    {
      "cell_type": "code",
      "source": [
        "%pip install --upgrade --quiet  langchain-community arxiv"
      ],
      "metadata": {
        "id": "itfjJy5QqboY"
      },
      "execution_count": null,
      "outputs": []
    },
    {
      "cell_type": "code",
      "source": [
        "from langchain_community.utilities import ArxivAPIWrapper\n",
        "from langchain_community.tools import ArxivQueryRun\n",
        "\n",
        "arxiv_wrapper = ArxivAPIWrapper(op_k_results = 3)\n",
        "arxiv_tool = ArxivQueryRun(api_wrapper = arxiv_wrapper)"
      ],
      "metadata": {
        "id": "OLJSkZrbqghX"
      },
      "execution_count": null,
      "outputs": []
    },
    {
      "cell_type": "code",
      "source": [
        "print(arxiv_tool.invoke({\"query\": \"Attention is all you need\"}))"
      ],
      "metadata": {
        "colab": {
          "base_uri": "https://localhost:8080/"
        },
        "id": "ug9GAV_erF_e",
        "outputId": "f960d08b-090b-4615-8f49-95ba2e6aff19"
      },
      "execution_count": null,
      "outputs": [
        {
          "output_type": "stream",
          "name": "stdout",
          "text": [
            "Published: 2024-07-22\n",
            "Title: Attention Is All You Need But You Don't Need All Of It For Inference of Large Language Models\n",
            "Authors: Georgy Tyukin, Gbetondji J-S Dovonon, Jean Kaddour, Pasquale Minervini\n",
            "Summary: The inference demand for LLMs has skyrocketed in recent months, and serving\n",
            "models with low latencies remains challenging due to the quadratic input length\n",
            "complexity of the attention layers. In this work, we investigate the effect of\n",
            "dropping MLP and attention layers at inference time on the performance of\n",
            "Llama-v2 models. We find that dropping dreeper attention layers only marginally\n",
            "decreases performance but leads to the best speedups alongside dropping entire\n",
            "layers. For example, removing 33\\% of attention layers in a 13B Llama2 model\n",
            "results in a 1.8\\% drop in average performance over the OpenLLM benchmark. We\n",
            "also observe that skipping layers except the latter layers reduces performances\n",
            "for more layers skipped, except for skipping the attention layers.\n",
            "\n",
            "Published: 2021-07-16\n",
            "Title: All the attention you need: Global-local, spatial-channel attention for image retrieval\n",
            "Authors: Chull Hwan Song, Hye Joo Han, Yannis Avrithis\n",
            "Summary: We address representation learning for large-scale instance-level image\n",
            "retrieval. Apart from backbone, training pipelines and loss functions, popular\n",
            "approaches have focused on different spatial pooling and attention mechanisms,\n",
            "which are at the core of learning a powerful global image representation. There\n",
            "are different forms of attention according to the interaction of elements of\n",
            "the feature tensor (local and global) and the dimensions where it is applied\n",
            "(spatial and channel). Unfortunately, each study addresses only one or two\n",
            "forms of attention and applies it to different problems like classification,\n",
            "detection or retrieval.\n",
            "  We present global-local attention module (GLAM), which is attached at the end\n",
            "of a backbone network and incorporates all four forms of attention: local and\n",
            "global, spatial and channel. We obtain a new feature tensor and, by spatial\n",
            "pooling, we learn a powerful embedding for image retrieval. Focusing on global\n",
            "descriptors, we provide empirical evidence of the interaction of all forms of\n",
            "attention and improve the state of the art on standard benchmarks.\n",
            "\n",
            "Published: 2023-06-02\n",
            "Title: RITA: Group Attention is All You Need for Timeseries Analytics\n",
            "Authors: Jiaming Liang, Lei Cao, Samuel Madden, Zachary Ives, Guoliang Li\n",
            "Summary: Timeseries analytics is of great importance in many real-world applications.\n",
            "Recently, the Transformer model, popular in natural language processing, has\n",
            "been leveraged to learn high quality feature embeddings from timeseries, core\n",
            "to the performance of various timeseries analytics tasks. However, the\n",
            "quadratic time and space complexities limit Transformers' scalability,\n",
            "especially for long timeseries. To address these issues, we develop a\n",
            "timeseries analytics tool, RITA, which uses a novel attention mechanism, named\n",
            "group attention, to address this scalability issue. Group attention dynamically\n",
            "clusters the objects based on their similarity into a small number of groups\n",
            "and approximately computes the attention at the coarse group granularity. It\n",
            "thus significantly reduces the time and space complexity, yet provides a\n",
            "theoretical guarantee on the quality of the computed attention. The dynamic\n",
            "scheduler of RITA continuously adapts the number of groups and the batch size\n",
            "in the training process, ensuring group attention always uses the fewest groups\n",
            "needed to meet the approximation quality requirement. Extensive experiments on\n",
            "various timeseries datasets and analytics tasks demonstrate that RITA\n",
            "outperforms the state-of-the-art in accuracy and is significantly faster --\n",
            "with speedups of up to 63X.\n"
          ]
        }
      ]
    },
    {
      "cell_type": "code",
      "source": [],
      "metadata": {
        "id": "T_6Ab7hKrLF0"
      },
      "execution_count": null,
      "outputs": []
    },
    {
      "cell_type": "markdown",
      "source": [
        "# Toolkit"
      ],
      "metadata": {
        "id": "rGrnvVBsrZp4"
      }
    },
    {
      "cell_type": "code",
      "source": [
        "toolkit = [wiki_tool, search_tool, arxiv_tool]"
      ],
      "metadata": {
        "id": "ngUFiN6sraou"
      },
      "execution_count": null,
      "outputs": []
    },
    {
      "cell_type": "code",
      "source": [
        "llm_with_tools = llm.bind_tools(\n",
        "    tools = toolkit\n",
        ")"
      ],
      "metadata": {
        "id": "L8HMt5RorrIF"
      },
      "execution_count": null,
      "outputs": []
    },
    {
      "cell_type": "markdown",
      "source": [
        "# Langgraph"
      ],
      "metadata": {
        "id": "epqvDoyWmb5S"
      }
    },
    {
      "cell_type": "code",
      "source": [
        "from typing import Annotated, Literal, TypedDict\n",
        "from langchain_core.tools import tool\n",
        "from langgraph.graph import END, START, StateGraph, MessagesState\n",
        "from langgraph.prebuilt import ToolNode, tools_condition"
      ],
      "metadata": {
        "id": "iIgfLEwnmdRz"
      },
      "execution_count": null,
      "outputs": []
    },
    {
      "cell_type": "code",
      "source": [],
      "metadata": {
        "id": "tJvbQM-JsI7i"
      },
      "execution_count": null,
      "outputs": []
    },
    {
      "cell_type": "markdown",
      "source": [
        "# State == MessagesState"
      ],
      "metadata": {
        "id": "mlQPvaYYsJRI"
      }
    },
    {
      "cell_type": "code",
      "source": [
        "# from langgraph.graph.message import add_messages\n",
        "# class State(TypedDict):\n",
        "#   '''\n",
        "#     Messages have the type \"list\". The `add_messages` function\n",
        "#     in the annotation defines how this state key should be updated\n",
        "#     (in this case, it appends messages to the list, rather than overwriting them)\n",
        "#   '''\n",
        "#   messages:Annotated[list, add_messages]\n"
      ],
      "metadata": {
        "id": "VVnVyWgar8oC"
      },
      "execution_count": null,
      "outputs": []
    },
    {
      "cell_type": "code",
      "source": [
        "# Start the process of building the graph\n",
        "graph_builder = StateGraph(MessagesState)\n",
        "# graph_builder = StateGraph(State)"
      ],
      "metadata": {
        "id": "IUV5D1gWr1RX"
      },
      "execution_count": null,
      "outputs": []
    },
    {
      "cell_type": "code",
      "source": [],
      "metadata": {
        "id": "qlbdfX3psKh7"
      },
      "execution_count": null,
      "outputs": []
    },
    {
      "cell_type": "markdown",
      "source": [
        "# Building Chatbot\n",
        "\n",
        "After building the graph, our graph should interact with the LLM.\n",
        "\n",
        "Note: Anytime we create a Node, it need to take the State paremeter of State(class). This is because, based on the statemessage, the state management should keep changing."
      ],
      "metadata": {
        "id": "uWCg7xyqsdR1"
      }
    },
    {
      "cell_type": "code",
      "source": [
        "def chatbot(state:MessagesState):\n",
        "  '''\n",
        "    return: After any response from the chatbot, we need to update the message variable.\n",
        "    llm_with_tools invoke: Specifically invoke from the state message, which will hold the user query\n",
        "  '''\n",
        "\n",
        "  return {'messages': [llm_with_tools.invoke(state['messages'])]}"
      ],
      "metadata": {
        "id": "hD29Vz5wsgDJ"
      },
      "execution_count": null,
      "outputs": []
    },
    {
      "cell_type": "code",
      "source": [],
      "metadata": {
        "id": "UdAUwCvetO6_"
      },
      "execution_count": null,
      "outputs": []
    },
    {
      "cell_type": "markdown",
      "source": [
        "# Add node to the chatbot"
      ],
      "metadata": {
        "id": "kzO6VZW4tVU3"
      }
    },
    {
      "cell_type": "code",
      "source": [
        "graph_builder.add_node(\"chatbot\", chatbot)"
      ],
      "metadata": {
        "id": "9RJLlQLntVHR"
      },
      "execution_count": null,
      "outputs": []
    },
    {
      "cell_type": "markdown",
      "source": [
        "## Add the tool node"
      ],
      "metadata": {
        "id": "Ph7tRGeqtp1A"
      }
    },
    {
      "cell_type": "code",
      "source": [
        "tools_node = ToolNode(tools=toolkit)\n",
        "# Make sure the name of the node is always tools\n",
        "graph_builder.add_node(\"tools\", tools_node)"
      ],
      "metadata": {
        "id": "jkkdWwirtehZ"
      },
      "execution_count": null,
      "outputs": []
    },
    {
      "cell_type": "code",
      "source": [],
      "metadata": {
        "id": "OLgR5V6Tt3O1"
      },
      "execution_count": null,
      "outputs": []
    },
    {
      "cell_type": "markdown",
      "source": [
        "# Add edges"
      ],
      "metadata": {
        "id": "QmsLfzwAt7QD"
      }
    },
    {
      "cell_type": "code",
      "source": [
        "graph_builder.add_edge(START, \"chatbot\")\n",
        "graph_builder.add_edge(\"chatbot\", END)"
      ],
      "metadata": {
        "id": "4KJ-Cckmt8Qf"
      },
      "execution_count": null,
      "outputs": []
    },
    {
      "cell_type": "markdown",
      "source": [
        "Chatbot should interact with the tool.\n",
        "\n",
        "The chatbot should interact with the tools based on some conditions, This interaction will be bi-directional.\n",
        "\n",
        "**So for bi-directional interactions, we need to use Conditional Edges.**\n",
        "\n",
        "\n",
        "```\n",
        "from langgraph.prebuilt import tools_condition\n",
        "```\n",
        "\n",
        "tools_condition: Creates the bidirectional interaction possible\n"
      ],
      "metadata": {
        "id": "92AVSLTHurjp"
      }
    },
    {
      "cell_type": "code",
      "source": [
        "graph_builder.add_conditional_edges(\"chatbot\", tools_condition)\n",
        "graph_builder.add_edge(\"tools\", \"chatbot\")"
      ],
      "metadata": {
        "id": "Nqbpi_BFup9V"
      },
      "execution_count": null,
      "outputs": []
    },
    {
      "cell_type": "code",
      "source": [],
      "metadata": {
        "id": "a5GEe0BL637t"
      },
      "execution_count": null,
      "outputs": []
    },
    {
      "cell_type": "markdown",
      "source": [
        "# Compile Graph"
      ],
      "metadata": {
        "id": "euKzX5MrwLkn"
      }
    },
    {
      "cell_type": "code",
      "source": [
        "graph = graph_builder.compile()"
      ],
      "metadata": {
        "id": "nnwm8OKzwMxG"
      },
      "execution_count": null,
      "outputs": []
    },
    {
      "cell_type": "code",
      "source": [
        "from IPython.display import Image, display\n",
        "try:\n",
        "  display(Image(graph.get_graph().draw_mermaid_png()))\n",
        "except Exception:\n",
        "  pass"
      ],
      "metadata": {
        "colab": {
          "base_uri": "https://localhost:8080/",
          "height": 266
        },
        "id": "524hhuH1wO2M",
        "outputId": "f686c122-f66f-4b1d-9635-19b15e62ba2c"
      },
      "execution_count": null,
      "outputs": [
        {
          "output_type": "display_data",
          "data": {
            "image/jpeg": "[encoded data removed]",
            "text/plain": [
              "<IPython.core.display.Image object>"
            ]
          },
          "metadata": {}
        }
      ]
    },
    {
      "cell_type": "code",
      "source": [],
      "metadata": {
        "id": "CP-h4MjSwQUG"
      },
      "execution_count": null,
      "outputs": []
    },
    {
      "cell_type": "markdown",
      "source": [
        "# Run"
      ],
      "metadata": {
        "id": "8oTdsxkqwmYi"
      }
    },
    {
      "cell_type": "code",
      "source": [
        "input = \"What is pythagoras theorem\"\n",
        "\n",
        "events = graph.stream(\n",
        "    {\"messages\": [('user',input)]},\n",
        "    stream_mode='values'\n",
        "    )\n",
        "\n",
        "\n",
        "for event in events:\n",
        "    event[\"messages\"][-1].pretty_print()"
      ],
      "metadata": {
        "colab": {
          "base_uri": "https://localhost:8080/"
        },
        "id": "nBQSRD9CwnYz",
        "outputId": "e2c180a4-b956-4721-9222-a906ddc611af"
      },
      "execution_count": null,
      "outputs": [
        {
          "output_type": "stream",
          "name": "stdout",
          "text": [
            "================================\u001b[1m Human Message \u001b[0m=================================\n",
            "\n",
            "What is pythagoras theorem\n",
            "==================================\u001b[1m Ai Message \u001b[0m==================================\n",
            "Tool Calls:\n",
            "  wikipedia (call_9rh8)\n",
            " Call ID: call_9rh8\n",
            "  Args:\n",
            "    query: Pythagorean theorem\n",
            "=================================\u001b[1m Tool Message \u001b[0m=================================\n",
            "Name: wikipedia\n",
            "\n",
            "Page: Pythagorean theorem\n",
            "Summary: In mathematics, the Pythagorean theorem or Pythagoras' theorem is\n",
            "==================================\u001b[1m Ai Message \u001b[0m==================================\n",
            "\n",
            "The Pythagorean theorem, also known as Pythagoras' theorem, states that in a right-angled triangle, the square of the length of the hypotenuse (the side opposite the right angle) is equal to the sum of the squares of the lengths of the other two sides. This can be written as: a² + b² = c², where c represents the length of the hypotenuse, and a and b represent the lengths of the other two sides. This theorem is a fundamental principle in geometry and has applications in various fields such as engineering, physics, and computer science. It was named after the ancient Greek mathematician Pythagoras, who is credited with its discovery.\n"
          ]
        }
      ]
    },
    {
      "cell_type": "code",
      "source": [
        "input = \"What is current temperature in Michigan\"\n",
        "\n",
        "events = graph.stream(\n",
        "    {\"messages\": [('user',input)]},\n",
        "    stream_mode='values'\n",
        "    )\n",
        "\n",
        "\n",
        "for event in events:\n",
        "    event[\"messages\"][-1].pretty_print()"
      ],
      "metadata": {
        "colab": {
          "base_uri": "https://localhost:8080/"
        },
        "id": "JtDRnQ7Vw77O",
        "outputId": "836f106d-4fb6-457c-86aa-afebfd293718"
      },
      "execution_count": null,
      "outputs": [
        {
          "output_type": "stream",
          "name": "stdout",
          "text": [
            "================================\u001b[1m Human Message \u001b[0m=================================\n",
            "\n",
            "What is current temperature in Michigan\n",
            "==================================\u001b[1m Ai Message \u001b[0m==================================\n",
            "Tool Calls:\n",
            "  duckduckgo_results_json (call_y6yz)\n",
            " Call ID: call_y6yz\n",
            "  Args:\n",
            "    query: current temperature in Michigan\n",
            "=================================\u001b[1m Tool Message \u001b[0m=================================\n",
            "Name: duckduckgo_results_json\n",
            "\n",
            "snippet: Current conditions at Ann Arbor, Ann Arbor Municipal Airport (KARB) Lat: 42.22°NLon: 83.74°WElev: 837ft. Fair. 79°F. 26°C. Humidity: 52%: Wind Speed: E 10 mph: ... Hourly Weather Forecast. National Digital Forecast Database. High Temperature. Chance of Precipitation. ACTIVE ALERTS Toggle menu. Warnings By State; Excessive Rainfall;, title: National Weather Service, link: https://forecast.weather.gov/zipcity.php?inputstring=Ann+Arbor,MI&Go2=Go, snippet: Current conditions at Coleman A Young Municipal Airport (KDET) Lat: 42.41°NLon: 83.01°WElev: 620ft. Fair. 69°F. 21°C. Humidity: 73%: Wind Speed: E 3 mph: Barometer: ... Hourly Weather Forecast. National Digital Forecast Database. High Temperature. Chance of Precipitation. ACTIVE ALERTS Toggle menu. Warnings By State; Excessive Rainfall;, title: National Weather Service, link: https://forecast.weather.gov/zipcity.php?inputstring=Detroit,MI&Go2=Go, snippet: High pressure will continue to bring fair weather into the weekend with very warm temperatures and dry weather. ... Current conditions at Holland - West Michigan Regional Airport (KBIV) Lat: 42.75°NLon: 86.1°WElev: 686ft. Fair. 81°F. 27°C. Humidity: 42%: Wind Speed: E 6 mph: Barometer: 30.08 in (1018.3 mb) Dewpoint: 56°F (13°C) Visibility:, title: National Weather Service, link: https://forecast.weather.gov/zipcity.php?inputstring=Holland,MI&Go2=Go, snippet: Current Hazards. Experimental Graphical Hazardous Weather Outlook; Storm and Precipitation Reports; Outlooks; Submit a Storm Report; Current Conditions. ... National Weather Service Grand Rapids, MI 4899 Tim Dougherty Drive SE Grand Rapids, MI 49512-4034 616-949-0643 Comments? Questions? Please Contact Us. ..., title: NWS Forecast Office Grand Rapids, MI - National Weather Service, link: https://www.weather.gov/grr/\n",
            "==================================\u001b[1m Ai Message \u001b[0m==================================\n",
            "\n",
            "The current temperature in Michigan varies, but here are some examples: in Ann Arbor it is 79°F (26°C), in Detroit it is 69°F (21°C), and in Holland it is 81°F (27°C). The weather is fair in all three locations with some humidity and wind.\n"
          ]
        }
      ]
    },
    {
      "cell_type": "code",
      "source": [
        "input = \"What wrote Transformer is all you need paper?\"\n",
        "\n",
        "events = graph.stream(\n",
        "    {\"messages\": [('user',input)]},\n",
        "    stream_mode='values'\n",
        "    )\n",
        "\n",
        "\n",
        "for event in events:\n",
        "    event[\"messages\"][-1].pretty_print()"
      ],
      "metadata": {
        "colab": {
          "base_uri": "https://localhost:8080/"
        },
        "id": "WOW0pL6U8rFu",
        "outputId": "f2376ef2-3c9f-4b64-e3a5-938ff3f1c81f"
      },
      "execution_count": null,
      "outputs": [
        {
          "output_type": "stream",
          "name": "stdout",
          "text": [
            "================================\u001b[1m Human Message \u001b[0m=================================\n",
            "\n",
            "What wrote Transformer is all you need paper?\n",
            "==================================\u001b[1m Ai Message \u001b[0m==================================\n",
            "Tool Calls:\n",
            "  duckduckgo_results_json (call_cht6)\n",
            " Call ID: call_cht6\n",
            "  Args:\n",
            "    query: Transformer is all you need paper\n",
            "=================================\u001b[1m Tool Message \u001b[0m=================================\n",
            "Name: duckduckgo_results_json\n",
            "\n",
            "snippet: Eight names are listed as authors on \"Attention Is All You Need,\" a scientific paper written in the spring of 2017. They were all Google researchers, though by then one had left the company., title: 8 Google Employees Invented Modern AI. Here's the Inside Story, link: https://www.wired.com/story/eight-google-employees-invented-modern-ai-transformers-paper/, snippet: Published Aug 19, 2024. + Follow. Transformers have played a major role in the development of Generative AI as we know today. The \"Attention Is All You Need\" paper is one of the main and ..., title: Breaking down the \"Attention Is All You Need\" paper - LinkedIn, link: https://www.linkedin.com/pulse/breaking-down-attention-all-you-need-paper-nooshin-hamidian-nplae, snippet: This video is a back-to-basics with the paper Attention is all you need. An explanation of the Transformer model includes math.Paper: https://arxiv.org/abs/1..., title: Transformer model explanation - Attention is all you need paper, link: https://www.youtube.com/watch?v=yMErJhZM-8M, snippet: The Transformer. Attention Is All You Need Figure 1. The goal is to understand why the Transformer was so groundbreaking and how it achieves these capabilities by implementing each part manually, relying only on NumPy without any out-of-the-box packages from Keras or PyTorch. Being a deep-learning beginner myself, I will try to add as much ..., title: Attention Is All You Need: In-Depth Walkthrough - Substack, link: https://btcompneuro.substack.com/p/draft-attention-is-all-you-need-in\n",
            "==================================\u001b[1m Ai Message \u001b[0m==================================\n",
            "\n",
            "The \"Attention Is All You Need\" paper, which was published in 2017, was written by eight Google employees. This paper is significant because it introduced the Transformer model, which has played a major role in the development of Generative AI. The Transformer model is explained in detail in the paper, including the math behind it. You can find the paper on arXiv and there are also several resources available online that provide explanations and breakdowns of the paper, such as articles, LinkedIn posts, and YouTube videos.\n"
          ]
        }
      ]
    },
    {
      "cell_type": "code",
      "source": [],
      "metadata": {
        "id": "HO-nXkURUQtk"
      },
      "execution_count": null,
      "outputs": []
    }
  ]
}