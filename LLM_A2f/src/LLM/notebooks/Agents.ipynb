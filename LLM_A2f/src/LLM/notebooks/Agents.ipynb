{
  "nbformat": 4,
  "nbformat_minor": 0,
  "metadata": {
    "colab": {
      "provenance": []
    },
    "kernelspec": {
      "name": "python3",
      "display_name": "Python 3"
    },
    "language_info": {
      "name": "python"
    }
  },
  "cells": [
    {
      "cell_type": "code",
      "execution_count": 1,
      "metadata": {
        "colab": {
          "base_uri": "https://localhost:8080/"
        },
        "id": "x9h8KacTSksb",
        "outputId": "9fbde1ed-a7d7-4321-9908-4ed460393e6e"
      },
      "outputs": [
        {
          "output_type": "stream",
          "name": "stdout",
          "text": [
            "Collecting langchain\n",
            "  Downloading langchain-0.3.4-py3-none-any.whl.metadata (7.1 kB)\n",
            "Collecting langchain-core\n",
            "  Downloading langchain_core-0.3.12-py3-none-any.whl.metadata (6.3 kB)\n",
            "Collecting langchain-community\n",
            "  Downloading langchain_community-0.3.3-py3-none-any.whl.metadata (2.8 kB)\n",
            "Collecting langchain-experimental\n",
            "  Downloading langchain_experimental-0.3.2-py3-none-any.whl.metadata (1.7 kB)\n",
            "Collecting langchain-openai\n",
            "  Downloading langchain_openai-0.2.3-py3-none-any.whl.metadata (2.6 kB)\n",
            "Collecting pyowm\n",
            "  Downloading pyowm-3.3.0-py3-none-any.whl.metadata (6.8 kB)\n",
            "Collecting google-search-results\n",
            "  Downloading google_search_results-2.4.2.tar.gz (18 kB)\n",
            "  Preparing metadata (setup.py) ... \u001b[?25l\u001b[?25hdone\n",
            "Collecting langchain-groq\n",
            "  Downloading langchain_groq-0.2.0-py3-none-any.whl.metadata (2.9 kB)\n",
            "Collecting langsmith\n",
            "  Downloading langsmith-0.1.137-py3-none-any.whl.metadata (13 kB)\n",
            "Collecting wikipedia\n",
            "  Downloading wikipedia-1.4.0.tar.gz (27 kB)\n",
            "  Preparing metadata (setup.py) ... \u001b[?25l\u001b[?25hdone\n",
            "Collecting duckduckgo-search\n",
            "  Downloading duckduckgo_search-6.3.2-py3-none-any.whl.metadata (25 kB)\n",
            "Collecting arxiv\n",
            "  Downloading arxiv-2.1.3-py3-none-any.whl.metadata (6.1 kB)\n",
            "Requirement already satisfied: PyYAML>=5.3 in /usr/local/lib/python3.10/dist-packages (from langchain) (6.0.2)\n",
            "Requirement already satisfied: SQLAlchemy<3,>=1.4 in /usr/local/lib/python3.10/dist-packages (from langchain) (2.0.36)\n",
            "Requirement already satisfied: aiohttp<4.0.0,>=3.8.3 in /usr/local/lib/python3.10/dist-packages (from langchain) (3.10.10)\n",
            "Requirement already satisfied: async-timeout<5.0.0,>=4.0.0 in /usr/local/lib/python3.10/dist-packages (from langchain) (4.0.3)\n",
            "Collecting langchain-text-splitters<0.4.0,>=0.3.0 (from langchain)\n",
            "  Downloading langchain_text_splitters-0.3.0-py3-none-any.whl.metadata (2.3 kB)\n",
            "Requirement already satisfied: numpy<2,>=1 in /usr/local/lib/python3.10/dist-packages (from langchain) (1.26.4)\n",
            "Requirement already satisfied: pydantic<3.0.0,>=2.7.4 in /usr/local/lib/python3.10/dist-packages (from langchain) (2.9.2)\n",
            "Requirement already satisfied: requests<3,>=2 in /usr/local/lib/python3.10/dist-packages (from langchain) (2.32.3)\n",
            "Requirement already satisfied: tenacity!=8.4.0,<10,>=8.1.0 in /usr/local/lib/python3.10/dist-packages (from langchain) (9.0.0)\n",
            "Collecting jsonpatch<2.0,>=1.33 (from langchain-core)\n",
            "  Downloading jsonpatch-1.33-py2.py3-none-any.whl.metadata (3.0 kB)\n",
            "Requirement already satisfied: packaging<25,>=23.2 in /usr/local/lib/python3.10/dist-packages (from langchain-core) (24.1)\n",
            "Requirement already satisfied: typing-extensions>=4.7 in /usr/local/lib/python3.10/dist-packages (from langchain-core) (4.12.2)\n",
            "Collecting dataclasses-json<0.7,>=0.5.7 (from langchain-community)\n",
            "  Downloading dataclasses_json-0.6.7-py3-none-any.whl.metadata (25 kB)\n",
            "Collecting pydantic-settings<3.0.0,>=2.4.0 (from langchain-community)\n",
            "  Downloading pydantic_settings-2.6.0-py3-none-any.whl.metadata (3.5 kB)\n",
            "Collecting openai<2.0.0,>=1.52.0 (from langchain-openai)\n",
            "  Downloading openai-1.52.1-py3-none-any.whl.metadata (24 kB)\n",
            "Collecting tiktoken<1,>=0.7 (from langchain-openai)\n",
            "  Downloading tiktoken-0.8.0-cp310-cp310-manylinux_2_17_x86_64.manylinux2014_x86_64.whl.metadata (6.6 kB)\n",
            "Collecting geojson<3,>=2.3.0 (from pyowm)\n",
            "  Downloading geojson-2.5.0-py2.py3-none-any.whl.metadata (15 kB)\n",
            "Requirement already satisfied: PySocks<2,>=1.7.1 in /usr/local/lib/python3.10/dist-packages (from pyowm) (1.7.1)\n",
            "Collecting groq<1,>=0.4.1 (from langchain-groq)\n",
            "  Downloading groq-0.11.0-py3-none-any.whl.metadata (13 kB)\n",
            "Collecting httpx<1,>=0.23.0 (from langsmith)\n",
            "  Downloading httpx-0.27.2-py3-none-any.whl.metadata (7.1 kB)\n",
            "Collecting orjson<4.0.0,>=3.9.14 (from langsmith)\n",
            "  Downloading orjson-3.10.10-cp310-cp310-manylinux_2_17_x86_64.manylinux2014_x86_64.whl.metadata (50 kB)\n",
            "\u001b[2K     \u001b[90m━━━━━━━━━━━━━━━━━━━━━━━━━━━━━━━━━━━━━━━━\u001b[0m \u001b[32m50.6/50.6 kB\u001b[0m \u001b[31m979.6 kB/s\u001b[0m eta \u001b[36m0:00:00\u001b[0m\n",
            "\u001b[?25hCollecting requests-toolbelt<2.0.0,>=1.0.0 (from langsmith)\n",
            "  Downloading requests_toolbelt-1.0.0-py2.py3-none-any.whl.metadata (14 kB)\n",
            "Requirement already satisfied: beautifulsoup4 in /usr/local/lib/python3.10/dist-packages (from wikipedia) (4.12.3)\n",
            "Requirement already satisfied: click>=8.1.7 in /usr/local/lib/python3.10/dist-packages (from duckduckgo-search) (8.1.7)\n",
            "Collecting primp>=0.6.4 (from duckduckgo-search)\n",
            "  Downloading primp-0.6.4-cp38-abi3-manylinux_2_17_x86_64.manylinux2014_x86_64.whl.metadata (10 kB)\n",
            "Collecting feedparser~=6.0.10 (from arxiv)\n",
            "  Downloading feedparser-6.0.11-py3-none-any.whl.metadata (2.4 kB)\n",
            "Requirement already satisfied: aiohappyeyeballs>=2.3.0 in /usr/local/lib/python3.10/dist-packages (from aiohttp<4.0.0,>=3.8.3->langchain) (2.4.3)\n",
            "Requirement already satisfied: aiosignal>=1.1.2 in /usr/local/lib/python3.10/dist-packages (from aiohttp<4.0.0,>=3.8.3->langchain) (1.3.1)\n",
            "Requirement already satisfied: attrs>=17.3.0 in /usr/local/lib/python3.10/dist-packages (from aiohttp<4.0.0,>=3.8.3->langchain) (24.2.0)\n",
            "Requirement already satisfied: frozenlist>=1.1.1 in /usr/local/lib/python3.10/dist-packages (from aiohttp<4.0.0,>=3.8.3->langchain) (1.4.1)\n",
            "Requirement already satisfied: multidict<7.0,>=4.5 in /usr/local/lib/python3.10/dist-packages (from aiohttp<4.0.0,>=3.8.3->langchain) (6.1.0)\n",
            "Requirement already satisfied: yarl<2.0,>=1.12.0 in /usr/local/lib/python3.10/dist-packages (from aiohttp<4.0.0,>=3.8.3->langchain) (1.16.0)\n",
            "Collecting marshmallow<4.0.0,>=3.18.0 (from dataclasses-json<0.7,>=0.5.7->langchain-community)\n",
            "  Downloading marshmallow-3.23.0-py3-none-any.whl.metadata (7.6 kB)\n",
            "Collecting typing-inspect<1,>=0.4.0 (from dataclasses-json<0.7,>=0.5.7->langchain-community)\n",
            "  Downloading typing_inspect-0.9.0-py3-none-any.whl.metadata (1.5 kB)\n",
            "Collecting sgmllib3k (from feedparser~=6.0.10->arxiv)\n",
            "  Downloading sgmllib3k-1.0.0.tar.gz (5.8 kB)\n",
            "  Preparing metadata (setup.py) ... \u001b[?25l\u001b[?25hdone\n",
            "Requirement already satisfied: anyio<5,>=3.5.0 in /usr/local/lib/python3.10/dist-packages (from groq<1,>=0.4.1->langchain-groq) (3.7.1)\n",
            "Requirement already satisfied: distro<2,>=1.7.0 in /usr/lib/python3/dist-packages (from groq<1,>=0.4.1->langchain-groq) (1.7.0)\n",
            "Requirement already satisfied: sniffio in /usr/local/lib/python3.10/dist-packages (from groq<1,>=0.4.1->langchain-groq) (1.3.1)\n",
            "Requirement already satisfied: certifi in /usr/local/lib/python3.10/dist-packages (from httpx<1,>=0.23.0->langsmith) (2024.8.30)\n",
            "Collecting httpcore==1.* (from httpx<1,>=0.23.0->langsmith)\n",
            "  Downloading httpcore-1.0.6-py3-none-any.whl.metadata (21 kB)\n",
            "Requirement already satisfied: idna in /usr/local/lib/python3.10/dist-packages (from httpx<1,>=0.23.0->langsmith) (3.10)\n",
            "Collecting h11<0.15,>=0.13 (from httpcore==1.*->httpx<1,>=0.23.0->langsmith)\n",
            "  Downloading h11-0.14.0-py3-none-any.whl.metadata (8.2 kB)\n",
            "Collecting jsonpointer>=1.9 (from jsonpatch<2.0,>=1.33->langchain-core)\n",
            "  Downloading jsonpointer-3.0.0-py2.py3-none-any.whl.metadata (2.3 kB)\n",
            "Collecting jiter<1,>=0.4.0 (from openai<2.0.0,>=1.52.0->langchain-openai)\n",
            "  Downloading jiter-0.6.1-cp310-cp310-manylinux_2_17_x86_64.manylinux2014_x86_64.whl.metadata (5.2 kB)\n",
            "Requirement already satisfied: tqdm>4 in /usr/local/lib/python3.10/dist-packages (from openai<2.0.0,>=1.52.0->langchain-openai) (4.66.5)\n",
            "Requirement already satisfied: annotated-types>=0.6.0 in /usr/local/lib/python3.10/dist-packages (from pydantic<3.0.0,>=2.7.4->langchain) (0.7.0)\n",
            "Requirement already satisfied: pydantic-core==2.23.4 in /usr/local/lib/python3.10/dist-packages (from pydantic<3.0.0,>=2.7.4->langchain) (2.23.4)\n",
            "Collecting python-dotenv>=0.21.0 (from pydantic-settings<3.0.0,>=2.4.0->langchain-community)\n",
            "  Downloading python_dotenv-1.0.1-py3-none-any.whl.metadata (23 kB)\n",
            "Requirement already satisfied: charset-normalizer<4,>=2 in /usr/local/lib/python3.10/dist-packages (from requests<3,>=2->langchain) (3.4.0)\n",
            "Requirement already satisfied: urllib3<3,>=1.21.1 in /usr/local/lib/python3.10/dist-packages (from requests<3,>=2->langchain) (2.2.3)\n",
            "Requirement already satisfied: greenlet!=0.4.17 in /usr/local/lib/python3.10/dist-packages (from SQLAlchemy<3,>=1.4->langchain) (3.1.1)\n",
            "Requirement already satisfied: regex>=2022.1.18 in /usr/local/lib/python3.10/dist-packages (from tiktoken<1,>=0.7->langchain-openai) (2024.9.11)\n",
            "Requirement already satisfied: soupsieve>1.2 in /usr/local/lib/python3.10/dist-packages (from beautifulsoup4->wikipedia) (2.6)\n",
            "Requirement already satisfied: exceptiongroup in /usr/local/lib/python3.10/dist-packages (from anyio<5,>=3.5.0->groq<1,>=0.4.1->langchain-groq) (1.2.2)\n",
            "Collecting mypy-extensions>=0.3.0 (from typing-inspect<1,>=0.4.0->dataclasses-json<0.7,>=0.5.7->langchain-community)\n",
            "  Downloading mypy_extensions-1.0.0-py3-none-any.whl.metadata (1.1 kB)\n",
            "Requirement already satisfied: propcache>=0.2.0 in /usr/local/lib/python3.10/dist-packages (from yarl<2.0,>=1.12.0->aiohttp<4.0.0,>=3.8.3->langchain) (0.2.0)\n",
            "Downloading langchain-0.3.4-py3-none-any.whl (1.0 MB)\n",
            "\u001b[2K   \u001b[90m━━━━━━━━━━━━━━━━━━━━━━━━━━━━━━━━━━━━━━━━\u001b[0m \u001b[32m1.0/1.0 MB\u001b[0m \u001b[31m24.2 MB/s\u001b[0m eta \u001b[36m0:00:00\u001b[0m\n",
            "\u001b[?25hDownloading langchain_core-0.3.12-py3-none-any.whl (407 kB)\n",
            "\u001b[2K   \u001b[90m━━━━━━━━━━━━━━━━━━━━━━━━━━━━━━━━━━━━━━━━\u001b[0m \u001b[32m407.7/407.7 kB\u001b[0m \u001b[31m14.4 MB/s\u001b[0m eta \u001b[36m0:00:00\u001b[0m\n",
            "\u001b[?25hDownloading langchain_community-0.3.3-py3-none-any.whl (2.4 MB)\n",
            "\u001b[2K   \u001b[90m━━━━━━━━━━━━━━━━━━━━━━━━━━━━━━━━━━━━━━━━\u001b[0m \u001b[32m2.4/2.4 MB\u001b[0m \u001b[31m27.4 MB/s\u001b[0m eta \u001b[36m0:00:00\u001b[0m\n",
            "\u001b[?25hDownloading langchain_experimental-0.3.2-py3-none-any.whl (208 kB)\n",
            "\u001b[2K   \u001b[90m━━━━━━━━━━━━━━━━━━━━━━━━━━━━━━━━━━━━━━━━\u001b[0m \u001b[32m208.1/208.1 kB\u001b[0m \u001b[31m13.1 MB/s\u001b[0m eta \u001b[36m0:00:00\u001b[0m\n",
            "\u001b[?25hDownloading langchain_openai-0.2.3-py3-none-any.whl (49 kB)\n",
            "\u001b[2K   \u001b[90m━━━━━━━━━━━━━━━━━━━━━━━━━━━━━━━━━━━━━━━━\u001b[0m \u001b[32m49.9/49.9 kB\u001b[0m \u001b[31m3.1 MB/s\u001b[0m eta \u001b[36m0:00:00\u001b[0m\n",
            "\u001b[?25hDownloading pyowm-3.3.0-py3-none-any.whl (4.5 MB)\n",
            "\u001b[2K   \u001b[90m━━━━━━━━━━━━━━━━━━━━━━━━━━━━━━━━━━━━━━━━\u001b[0m \u001b[32m4.5/4.5 MB\u001b[0m \u001b[31m33.7 MB/s\u001b[0m eta \u001b[36m0:00:00\u001b[0m\n",
            "\u001b[?25hDownloading langchain_groq-0.2.0-py3-none-any.whl (14 kB)\n",
            "Downloading langsmith-0.1.137-py3-none-any.whl (296 kB)\n",
            "\u001b[2K   \u001b[90m━━━━━━━━━━━━━━━━━━━━━━━━━━━━━━━━━━━━━━━━\u001b[0m \u001b[32m296.9/296.9 kB\u001b[0m \u001b[31m14.1 MB/s\u001b[0m eta \u001b[36m0:00:00\u001b[0m\n",
            "\u001b[?25hDownloading duckduckgo_search-6.3.2-py3-none-any.whl (27 kB)\n",
            "Downloading arxiv-2.1.3-py3-none-any.whl (11 kB)\n",
            "Downloading dataclasses_json-0.6.7-py3-none-any.whl (28 kB)\n",
            "Downloading feedparser-6.0.11-py3-none-any.whl (81 kB)\n",
            "\u001b[2K   \u001b[90m━━━━━━━━━━━━━━━━━━━━━━━━━━━━━━━━━━━━━━━━\u001b[0m \u001b[32m81.3/81.3 kB\u001b[0m \u001b[31m5.4 MB/s\u001b[0m eta \u001b[36m0:00:00\u001b[0m\n",
            "\u001b[?25hDownloading geojson-2.5.0-py2.py3-none-any.whl (14 kB)\n",
            "Downloading groq-0.11.0-py3-none-any.whl (106 kB)\n",
            "\u001b[2K   \u001b[90m━━━━━━━━━━━━━━━━━━━━━━━━━━━━━━━━━━━━━━━━\u001b[0m \u001b[32m106.5/106.5 kB\u001b[0m \u001b[31m7.4 MB/s\u001b[0m eta \u001b[36m0:00:00\u001b[0m\n",
            "\u001b[?25hDownloading httpx-0.27.2-py3-none-any.whl (76 kB)\n",
            "\u001b[2K   \u001b[90m━━━━━━━━━━━━━━━━━━━━━━━━━━━━━━━━━━━━━━━━\u001b[0m \u001b[32m76.4/76.4 kB\u001b[0m \u001b[31m5.1 MB/s\u001b[0m eta \u001b[36m0:00:00\u001b[0m\n",
            "\u001b[?25hDownloading httpcore-1.0.6-py3-none-any.whl (78 kB)\n",
            "\u001b[2K   \u001b[90m━━━━━━━━━━━━━━━━━━━━━━━━━━━━━━━━━━━━━━━━\u001b[0m \u001b[32m78.0/78.0 kB\u001b[0m \u001b[31m5.2 MB/s\u001b[0m eta \u001b[36m0:00:00\u001b[0m\n",
            "\u001b[?25hDownloading jsonpatch-1.33-py2.py3-none-any.whl (12 kB)\n",
            "Downloading langchain_text_splitters-0.3.0-py3-none-any.whl (25 kB)\n",
            "Downloading openai-1.52.1-py3-none-any.whl (386 kB)\n",
            "\u001b[2K   \u001b[90m━━━━━━━━━━━━━━━━━━━━━━━━━━━━━━━━━━━━━━━━\u001b[0m \u001b[32m386.9/386.9 kB\u001b[0m \u001b[31m19.0 MB/s\u001b[0m eta \u001b[36m0:00:00\u001b[0m\n",
            "\u001b[?25hDownloading orjson-3.10.10-cp310-cp310-manylinux_2_17_x86_64.manylinux2014_x86_64.whl (144 kB)\n",
            "\u001b[2K   \u001b[90m━━━━━━━━━━━━━━━━━━━━━━━━━━━━━━━━━━━━━━━━\u001b[0m \u001b[32m144.5/144.5 kB\u001b[0m \u001b[31m8.9 MB/s\u001b[0m eta \u001b[36m0:00:00\u001b[0m\n",
            "\u001b[?25hDownloading primp-0.6.4-cp38-abi3-manylinux_2_17_x86_64.manylinux2014_x86_64.whl (3.0 MB)\n",
            "\u001b[2K   \u001b[90m━━━━━━━━━━━━━━━━━━━━━━━━━━━━━━━━━━━━━━━━\u001b[0m \u001b[32m3.0/3.0 MB\u001b[0m \u001b[31m31.4 MB/s\u001b[0m eta \u001b[36m0:00:00\u001b[0m\n",
            "\u001b[?25hDownloading pydantic_settings-2.6.0-py3-none-any.whl (28 kB)\n",
            "Downloading requests_toolbelt-1.0.0-py2.py3-none-any.whl (54 kB)\n",
            "\u001b[2K   \u001b[90m━━━━━━━━━━━━━━━━━━━━━━━━━━━━━━━━━━━━━━━━\u001b[0m \u001b[32m54.5/54.5 kB\u001b[0m \u001b[31m3.5 MB/s\u001b[0m eta \u001b[36m0:00:00\u001b[0m\n",
            "\u001b[?25hDownloading tiktoken-0.8.0-cp310-cp310-manylinux_2_17_x86_64.manylinux2014_x86_64.whl (1.2 MB)\n",
            "\u001b[2K   \u001b[90m━━━━━━━━━━━━━━━━━━━━━━━━━━━━━━━━━━━━━━━━\u001b[0m \u001b[32m1.2/1.2 MB\u001b[0m \u001b[31m28.5 MB/s\u001b[0m eta \u001b[36m0:00:00\u001b[0m\n",
            "\u001b[?25hDownloading jiter-0.6.1-cp310-cp310-manylinux_2_17_x86_64.manylinux2014_x86_64.whl (325 kB)\n",
            "\u001b[2K   \u001b[90m━━━━━━━━━━━━━━━━━━━━━━━━━━━━━━━━━━━━━━━━\u001b[0m \u001b[32m325.2/325.2 kB\u001b[0m \u001b[31m17.4 MB/s\u001b[0m eta \u001b[36m0:00:00\u001b[0m\n",
            "\u001b[?25hDownloading jsonpointer-3.0.0-py2.py3-none-any.whl (7.6 kB)\n",
            "Downloading marshmallow-3.23.0-py3-none-any.whl (49 kB)\n",
            "\u001b[2K   \u001b[90m━━━━━━━━━━━━━━━━━━━━━━━━━━━━━━━━━━━━━━━━\u001b[0m \u001b[32m49.5/49.5 kB\u001b[0m \u001b[31m3.1 MB/s\u001b[0m eta \u001b[36m0:00:00\u001b[0m\n",
            "\u001b[?25hDownloading python_dotenv-1.0.1-py3-none-any.whl (19 kB)\n",
            "Downloading typing_inspect-0.9.0-py3-none-any.whl (8.8 kB)\n",
            "Downloading h11-0.14.0-py3-none-any.whl (58 kB)\n",
            "\u001b[2K   \u001b[90m━━━━━━━━━━━━━━━━━━━━━━━━━━━━━━━━━━━━━━━━\u001b[0m \u001b[32m58.3/58.3 kB\u001b[0m \u001b[31m4.0 MB/s\u001b[0m eta \u001b[36m0:00:00\u001b[0m\n",
            "\u001b[?25hDownloading mypy_extensions-1.0.0-py3-none-any.whl (4.7 kB)\n",
            "Building wheels for collected packages: google-search-results, wikipedia, sgmllib3k\n",
            "  Building wheel for google-search-results (setup.py) ... \u001b[?25l\u001b[?25hdone\n",
            "  Created wheel for google-search-results: filename=google_search_results-2.4.2-py3-none-any.whl size=32009 sha256=9f769fc873134d55dc20ccd0c048bee8418a84315366a3f26d13aac095cf0bbd\n",
            "  Stored in directory: /root/.cache/pip/wheels/d3/b2/c3/03302d12bb44a2cdff3c9371f31b72c0c4e84b8d2285eeac53\n",
            "  Building wheel for wikipedia (setup.py) ... \u001b[?25l\u001b[?25hdone\n",
            "  Created wheel for wikipedia: filename=wikipedia-1.4.0-py3-none-any.whl size=11679 sha256=de446d7df2a8b84e578c2943aca319227404263feb8b8587b70b938b3dd2d782\n",
            "  Stored in directory: /root/.cache/pip/wheels/5e/b6/c5/93f3dec388ae76edc830cb42901bb0232504dfc0df02fc50de\n",
            "  Building wheel for sgmllib3k (setup.py) ... \u001b[?25l\u001b[?25hdone\n",
            "  Created wheel for sgmllib3k: filename=sgmllib3k-1.0.0-py3-none-any.whl size=6047 sha256=44e7921884772b60150d9056b6c5bb21c460868a506373b89cbde5fb1b780c83\n",
            "  Stored in directory: /root/.cache/pip/wheels/f0/69/93/a47e9d621be168e9e33c7ce60524393c0b92ae83cf6c6e89c5\n",
            "Successfully built google-search-results wikipedia sgmllib3k\n",
            "Installing collected packages: sgmllib3k, geojson, python-dotenv, primp, orjson, mypy-extensions, marshmallow, jsonpointer, jiter, h11, feedparser, wikipedia, typing-inspect, tiktoken, requests-toolbelt, jsonpatch, httpcore, google-search-results, duckduckgo-search, arxiv, pyowm, pydantic-settings, httpx, dataclasses-json, openai, langsmith, groq, langchain-core, langchain-text-splitters, langchain-openai, langchain-groq, langchain, langchain-community, langchain-experimental\n",
            "Successfully installed arxiv-2.1.3 dataclasses-json-0.6.7 duckduckgo-search-6.3.2 feedparser-6.0.11 geojson-2.5.0 google-search-results-2.4.2 groq-0.11.0 h11-0.14.0 httpcore-1.0.6 httpx-0.27.2 jiter-0.6.1 jsonpatch-1.33 jsonpointer-3.0.0 langchain-0.3.4 langchain-community-0.3.3 langchain-core-0.3.12 langchain-experimental-0.3.2 langchain-groq-0.2.0 langchain-openai-0.2.3 langchain-text-splitters-0.3.0 langsmith-0.1.137 marshmallow-3.23.0 mypy-extensions-1.0.0 openai-1.52.1 orjson-3.10.10 primp-0.6.4 pydantic-settings-2.6.0 pyowm-3.3.0 python-dotenv-1.0.1 requests-toolbelt-1.0.0 sgmllib3k-1.0.0 tiktoken-0.8.0 typing-inspect-0.9.0 wikipedia-1.4.0\n"
          ]
        }
      ],
      "source": [
        "!pip install langchain langchain-core langchain-community langchain-experimental langchain-openai pyowm google-search-results langchain-groq langsmith wikipedia duckduckgo-search arxiv"
      ]
    },
    {
      "cell_type": "code",
      "source": [
        "import os\n",
        "from google.colab import userdata\n",
        "\n",
        "os.environ['OPENAI_API_KEY'] = userdata.get('OPENAI_API_KEY')\n",
        "os.environ['GROQ_API_KEY'] = userdata.get('GROQ_API_KEY')\n",
        "os.environ['SERPAPI_API_KEY'] = userdata.get('SERPAPI_API_KEY')\n",
        "os.environ[\"OPENWEATHERMAP_API_KEY\"] = userdata.get('OPENWEATHERMAP_API_KEY')\n",
        "\n",
        "os.environ['LANGSMITH_API_KEY'] = userdata.get('LANGSMITH_API_KEY')\n",
        "os.environ['LANGCHAIN_API_KEY'] = userdata.get('LANGSMITH_API_KEY')\n",
        "os.environ['LANGSMITH_TRACING'] = \"true\"\n",
        "os.environ[\"LANGCHAIN_PROJECT\"] = \"MultiAgent\""
      ],
      "metadata": {
        "id": "q7FB3S-dU0Yc"
      },
      "execution_count": 157,
      "outputs": []
    },
    {
      "cell_type": "code",
      "source": [
        "# Build Tools"
      ],
      "metadata": {
        "id": "RVd_n4OKU9Gc"
      },
      "execution_count": 158,
      "outputs": []
    },
    {
      "cell_type": "markdown",
      "source": [
        "Duck-Duck-Go"
      ],
      "metadata": {
        "id": "nS4g9m-eX2e9"
      }
    },
    {
      "cell_type": "code",
      "source": [
        "from langchain_community.utilities import DuckDuckGoSearchAPIWrapper\n",
        "from langchain_community.tools import DuckDuckGoSearchResults\n",
        "\n",
        "search_wrapper = DuckDuckGoSearchAPIWrapper(max_results=2)\n",
        "search_tool = DuckDuckGoSearchResults(api_wrapper=search_wrapper, source=\"news\")"
      ],
      "metadata": {
        "id": "lo0h3MtRVK7H"
      },
      "execution_count": 159,
      "outputs": []
    },
    {
      "cell_type": "code",
      "source": [
        "search_tool.run(\"openai\")"
      ],
      "metadata": {
        "colab": {
          "base_uri": "https://localhost:8080/",
          "height": 143
        },
        "id": "ZU5499TqWn22",
        "outputId": "083e1c4a-af45-4b52-e733-b335d64f3b10"
      },
      "execution_count": 160,
      "outputs": [
        {
          "output_type": "execute_result",
          "data": {
            "text/plain": [
              "\"snippet: GPT-4o fine-tuning is available today to all developers on all paid usage tiers \\u2060 (opens in a new window).. To get started, visit the fine-tuning dashboard \\u2060 (opens in a new window), click create, and select gpt-4o-2024-08-06 from the base model drop-down. GPT-4o fine-tuning training costs $25 per million tokens, and inference is $3.75 per million input tokens and $15 per million output ..., title: Fine-tuning now available for GPT-4o - OpenAI, link: https://openai.com/index/gpt-4o-fine-tuning/, snippet: The o1 series excels at accurately generating and debugging complex code. To offer a more efficient solution for developers, we're also releasing OpenAI o1-mini, a faster, cheaper reasoning model that is particularly effective at coding. As a smaller model, o1-mini is 80% cheaper than o1-preview, making it a powerful, cost-effective model for ..., title: Introducing OpenAI o1, link: https://openai.com/index/introducing-openai-o1-preview/, snippet: Prior to GPT-4o, you could use Voice Mode \\u2060 to talk to ChatGPT with latencies of 2.8 seconds (GPT-3.5) and 5.4 seconds (GPT-4) on average. To achieve this, Voice Mode is a pipeline of three separate models: one simple model transcribes audio to text, GPT-3.5 or GPT-4 takes in text and outputs text, and a third simple model converts that text back to audio., title: Hello GPT-4o - OpenAI, link: https://openai.com/index/hello-gpt-4o/, snippet: These learnings will also support our efforts to further clarify the operational meaning of fairness in our systems. Fairness continues to be an active area of research, and we've shared examples of our fairness research in our GPT-4o and OpenAI o1 system cards (e.g., comparing accuracy of voice recognition across different speaker demographics)., title: Evaluating fairness in ChatGPT - OpenAI, link: https://openai.com/index/evaluating-fairness-in-chatgpt/\""
            ],
            "application/vnd.google.colaboratory.intrinsic+json": {
              "type": "string"
            }
          },
          "metadata": {},
          "execution_count": 160
        }
      ]
    },
    {
      "cell_type": "code",
      "source": [
        "from langchain.agents import Tool\n",
        "from langchain.tools import BaseTool"
      ],
      "metadata": {
        "id": "Lh10RT7EWqcW"
      },
      "execution_count": 161,
      "outputs": []
    },
    {
      "cell_type": "code",
      "source": [
        "# defining a single tool\n",
        "duck_duck_go_tool = Tool(\n",
        "        name = \"search_tool\",\n",
        "        func=search_tool.run,\n",
        "        description=\"useful for when you need to answer questions about latest news. You should ask targeted questions\"\n",
        "    )"
      ],
      "metadata": {
        "id": "UohZ2siHWxdB"
      },
      "execution_count": 162,
      "outputs": []
    },
    {
      "cell_type": "markdown",
      "source": [
        "Wikipedia"
      ],
      "metadata": {
        "id": "QXo7-qf_X8eC"
      }
    },
    {
      "cell_type": "code",
      "source": [
        "from langchain.tools import WikipediaQueryRun\n",
        "from langchain_community.utilities import WikipediaAPIWrapper"
      ],
      "metadata": {
        "id": "eo5PryEsXJ-O"
      },
      "execution_count": 163,
      "outputs": []
    },
    {
      "cell_type": "code",
      "source": [
        "wiki_api_wrapper = WikipediaAPIWrapper(\n",
        "            top_k_results=1,\n",
        "            doc_content_chars_max=100\n",
        "        )\n",
        "wiki_tool = WikipediaQueryRun(api_wrapper=wiki_api_wrapper)"
      ],
      "metadata": {
        "id": "xao93hTGXAMy"
      },
      "execution_count": 164,
      "outputs": []
    },
    {
      "cell_type": "code",
      "source": [
        "wiki_tool.run('Pythagoras theorme')"
      ],
      "metadata": {
        "colab": {
          "base_uri": "https://localhost:8080/",
          "height": 35
        },
        "id": "mxG6AI28XafV",
        "outputId": "0ecd6328-6757-45a8-eafb-4aead293ec95"
      },
      "execution_count": 165,
      "outputs": [
        {
          "output_type": "execute_result",
          "data": {
            "text/plain": [
              "'No good Wikipedia Search Result was found'"
            ],
            "application/vnd.google.colaboratory.intrinsic+json": {
              "type": "string"
            }
          },
          "metadata": {},
          "execution_count": 165
        }
      ]
    },
    {
      "cell_type": "code",
      "source": [
        "# defining a single tool\n",
        "wikipedia_tool = Tool(\n",
        "        name = \"wiki_tool\",\n",
        "        func=wiki_tool.run,\n",
        "        description=\"useful when you need to answer questions that references to work in history. You should ask targeted questions\"\n",
        "    )"
      ],
      "metadata": {
        "id": "UU70rUc0XLBQ"
      },
      "execution_count": 166,
      "outputs": []
    },
    {
      "cell_type": "markdown",
      "source": [
        "SerpiAPI"
      ],
      "metadata": {
        "id": "d_VwmuCVYWdR"
      }
    },
    {
      "cell_type": "code",
      "source": [
        "from langchain_community.utilities import SerpAPIWrapper"
      ],
      "metadata": {
        "id": "9oWOlFfUYQSb"
      },
      "execution_count": 167,
      "outputs": []
    },
    {
      "cell_type": "code",
      "source": [
        "search_engine = SerpAPIWrapper()"
      ],
      "metadata": {
        "id": "5K-pCo9BYYai"
      },
      "execution_count": 168,
      "outputs": []
    },
    {
      "cell_type": "code",
      "source": [
        "search_engine.run(\"Coffee shop in michigan?\")"
      ],
      "metadata": {
        "colab": {
          "base_uri": "https://localhost:8080/",
          "height": 143
        },
        "id": "egjpsiy2Ycko",
        "outputId": "f9cc2b8b-d849-4dd9-a1fa-52f7fea73075"
      },
      "execution_count": 169,
      "outputs": [
        {
          "output_type": "execute_result",
          "data": {
            "text/plain": [
              "'[\\'11 Awesome Michigan Coffee Shops, A Day Trip Adventure, Into Detroit Coffee, Coffee at The Gathering Coffee Co., Go On A Grand Rapids Coffee Adventure Trip ...\\', \\'Explore 74 hand-picked specialty coffee shops and coffee reviews in Michigan, United States on Coffeeopia.\\', \\'1. Roasting Plant Detroit · 2. The Hot Spot Coffee Company · 3. La Ventana · 4. Shinola Cafe · 5. Percent Coffee · 6. Haraz Coffee House · 7. Lucky Detroit Coffee & ...\\', \\'We believe that Everyone deserves to feel special. SEE ALL On a mission to bring a name, a face, and a place to every cup of coffee we serve.\\', \\'Lucky Detroit Coffee & Espresso - Detroit Coffee Shop Located at 2000 Michigan Ave, Detroit 48216.\\', \\'28 great places to get coffee in Michigan · Astro Coffee · Atomic Coffee · Black Owl Cafe · Chazzano Cafe · Checker Records · Comet Coffee · Common ...\\', \"There are 5 coffee shops in downtown Holland, Michigan that are sure to satisfy that coffee craving. Let\\'s start with the 205 Coffee Bar.\", \\'Bagel Beanery - Grand Rapids NE. 455 Michigan Ave. NE ; EB Coffee and Pub. 8980 N Rodgers Ct SE Suite D ; HAS HEART Coffee Shop. 22 Sheldon Ave.\\', [{\\'position\\': 1, \\'rating\\': 4.9, \\'reviews_original\\': \\'(357)\\', \\'reviews\\': 357, \\'description\\': \\'Comfortable coffeehouse with Wi-Fi offering espresso drinks, baked goods, smoothies and light eats.\\', \\'lsig\\': \\'AB86z5UJn5XaDlD0N4eO12guG5yb\\', \\'thumbnail\\': \\'https://serpapi.com/searches/67192fca63a8440e1664650f/images/83672b2c54809ee222282e0e31bafc4a26176b197ac2081a787e80d8c47a769bcefe7ce2aad4f3f0.jpeg\\', \\'title\\': \\'Michigan Coffee Co.\\', \\'type\\': \\'Coffee shop\\', \\'address\\': \\'Cadillac, MI\\', \\'place_id\\': \\'8397970865957081138\\', \\'place_id_search\\': \\'https://serpapi.com/search.json?device=desktop&engine=google&gl=us&google_domain=google.com&hl=en&ludocid=8397970865957081138&q=Coffee+shop+in+michigan%3F\\', \\'gps_coordinates\\': {\\'latitude\\': 44.23534, \\'longitude\\': -85.45474}}, {\\'position\\': 2, \\'rating\\': 4.7, \\'reviews_original\\': \\'(51)\\', \\'reviews\\': 51, \\'description\\': \\'Dine-in·Takeout·Delivery\\', \\'lsig\\': \\'AB86z5UZQPP1LlDAmJZZERK6VxSK\\', \\'thumbnail\\': \\'https://serpapi.com/searches/67192fca63a8440e1664650f/images/83672b2c54809ee222282e0e31bafc4a54c35b3079323ebc82b96a58b1f59f00f976c74f361f0741.jpeg\\', \\'service_options\\': {\\'dine_in\\': True, \\'takeout\\': True, \\'delivery\\': True}, \\'title\\': \\'Michigan Coffee + Creamery Co.\\', \\'type\\': \\'Coffee shop\\', \\'address\\': \\'Beverly Hills, MI\\', \\'place_id\\': \\'13275631458548231669\\', \\'place_id_search\\': \\'https://serpapi.com/search.json?device=desktop&engine=google&gl=us&google_domain=google.com&hl=en&ludocid=13275631458548231669&q=Coffee+shop+in+michigan%3F\\', \\'gps_coordinates\\': {\\'latitude\\': 42.5186, \\'longitude\\': -83.22405}}, {\\'position\\': 3, \\'rating\\': 4.9, \\'reviews_original\\': \\'(147)\\', \\'reviews\\': 147, \\'description\\': \\'Artisan coffee purveyor offering pour-over, espresso drinks and pastries in a relaxed setting.\\', \\'lsig\\': \\'AB86z5WBRSAqE5qJbntphzrKHvAB\\', \\'thumbnail\\': \\'https://serpapi.com/searches/67192fca63a8440e1664650f/images/83672b2c54809ee222282e0e31bafc4aa84d3d7d14b60244e08653d28f5ea4f51d9558fbbaa216e9.jpeg\\', \\'title\\': \\'Meridian Coffee Co.\\', \\'type\\': \\'Coffee shop\\', \\'address\\': \\'Plymouth, MI\\', \\'place_id\\': \\'3150262060052629363\\', \\'place_id_search\\': \\'https://serpapi.com/search.json?device=desktop&engine=google&gl=us&google_domain=google.com&hl=en&ludocid=3150262060052629363&q=Coffee+shop+in+michigan%3F\\', \\'gps_coordinates\\': {\\'latitude\\': 42.378777, \\'longitude\\': -83.46163}}]]'"
            ],
            "application/vnd.google.colaboratory.intrinsic+json": {
              "type": "string"
            }
          },
          "metadata": {},
          "execution_count": 169
        }
      ]
    },
    {
      "cell_type": "code",
      "source": [
        "search_engine_tool = Tool(\n",
        "        name = \"search_engine\",\n",
        "        func=search_engine.run,\n",
        "        description=\"useful for when you need to answer general user question and need to browse internet. You should ask targeted questions\"\n",
        "    )"
      ],
      "metadata": {
        "id": "gbLqfv-xYqv-"
      },
      "execution_count": 170,
      "outputs": []
    },
    {
      "cell_type": "code",
      "source": [],
      "metadata": {
        "id": "LsJsqZ2-Y1ZS"
      },
      "execution_count": 170,
      "outputs": []
    },
    {
      "cell_type": "code",
      "source": [
        "# from langchain_groq import ChatGroq\n",
        "\n",
        "# llm = ChatGroq(\n",
        "#     model = 'mixtral-8x7b-32768',\n",
        "#     temperature=0.0\n",
        "# )"
      ],
      "metadata": {
        "id": "hOtVa5_0Zk3v"
      },
      "execution_count": 171,
      "outputs": []
    },
    {
      "cell_type": "code",
      "source": [
        "from langchain_openai import ChatOpenAI\n",
        "\n",
        "llm = ChatOpenAI(\n",
        "    temperature=0.0\n",
        ")"
      ],
      "metadata": {
        "id": "2oQnLwL2htW5"
      },
      "execution_count": 172,
      "outputs": []
    },
    {
      "cell_type": "code",
      "source": [
        "from langchain.agents import initialize_agent\n",
        "from langchain.agents import load_tools\n",
        "\n",
        "my_toolkit = [duck_duck_go_tool, wikipedia_tool, search_engine_tool]\n",
        "tools = load_tools([], llm=llm)\n",
        "tools = tools + my_toolkit"
      ],
      "metadata": {
        "id": "8zwPqS4nY6eW"
      },
      "execution_count": 181,
      "outputs": []
    },
    {
      "cell_type": "code",
      "source": [
        "from langchain.chains.conversation.memory import ConversationBufferWindowMemory\n",
        "\n",
        "# conversational agent memory\n",
        "memory = ConversationBufferWindowMemory(\n",
        "    memory_key='chat_history',\n",
        "    k=2,\n",
        "    return_messages=True\n",
        ")"
      ],
      "metadata": {
        "id": "ylqkzDyNZB8y"
      },
      "execution_count": 182,
      "outputs": []
    },
    {
      "cell_type": "code",
      "source": [
        "# create our agent\n",
        "conversational_agent = initialize_agent(\n",
        "    agent='chat-conversational-react-description',\n",
        "    tools=tools,\n",
        "    llm=llm,\n",
        "    verbose=True,\n",
        "    max_iterations=3,\n",
        "    early_stopping_method='generate',\n",
        "    memory=memory\n",
        ")"
      ],
      "metadata": {
        "id": "qZ8mJQvWZeMq"
      },
      "execution_count": 183,
      "outputs": []
    },
    {
      "cell_type": "code",
      "source": [
        "conversational_agent(\" what is the latest news about elections in usa?\")"
      ],
      "metadata": {
        "colab": {
          "base_uri": "https://localhost:8080/"
        },
        "id": "FxcRiNjpZsNQ",
        "outputId": "5b60141b-daff-428c-d009-3deb333d4f29"
      },
      "execution_count": 184,
      "outputs": [
        {
          "output_type": "stream",
          "name": "stdout",
          "text": [
            "\n",
            "\n",
            "\u001b[1m> Entering new AgentExecutor chain...\u001b[0m\n",
            "\u001b[32;1m\u001b[1;3m```json\n",
            "{\n",
            "    \"action\": \"search_tool\",\n",
            "    \"action_input\": \"latest news about elections in USA\"\n",
            "}\n",
            "```\u001b[0m\n",
            "Observation: \u001b[36;1m\u001b[1;3msnippet: Election Live Updates: Harris Calls Trump 'Unfit,' Citing Former Aide's Interview. Vice President Kamala Harris cited remarks by John Kelly, Mr. Trump's former White House chief of staff ..., title: Election Live Updates: Harris Calls Trump 'Unfit,' Citing Former Aide's ..., link: https://www.nytimes.com/live/2024/10/23/us/harris-trump-election/heres-the-latest-on-the-presidential-race, snippet: Election Day is just 14 days out, and Vice President Kamala Harris and former President Donald Trump are hitting the campaign trail to make their final pitches to voters. Follow for live updates., title: Live updates: Trump-Harris election news | CNN Politics, link: https://www.cnn.com/politics/live-news/trump-harris-election-10-22-24/index.html, snippet: Voters in Hawaii, Missouri, Utah, and Wisconsin started casting their ballots on Tuesday, joining several other states that began early voting in recent weeks. Polls suggest Democratic candidate ..., title: US election: 13 days left — What polls say, what Harris and Trump are ..., link: https://www.aljazeera.com/news/2024/10/23/us-election-13-days-left-what-polls-say-what-harris-and-trump-are-up, snippet: US election updates: Harris and Trump campaign in swing states - as it happened. ... Kylie works on the UK Breaking News team, reporting on key developments in political, economic and general news, title: US election updates: Harris and Trump campaign in swing states - as it ..., link: https://www.reuters.com/world/us/us-election-live-harris-trump-locked-race-white-house-2024-10-21/\u001b[0m\n",
            "Thought:\u001b[32;1m\u001b[1;3m```json\n",
            "{\n",
            "    \"action\": \"Final Answer\",\n",
            "    \"action_input\": \"The latest news about elections in the USA includes Vice President Kamala Harris calling Trump 'unfit' based on remarks by John Kelly, Trump's former White House chief of staff. Election Day is approaching with Harris and Trump campaigning actively. Early voting has started in several states. For more details, you can visit the following links: [NY Times](https://www.nytimes.com/live/2024/10/23/us/harris-trump-election/heres-the-latest-on-the-presidential-race), [CNN Politics](https://www.cnn.com/politics/live-news/trump-harris-election-10-22-24/index.html), [Al Jazeera](https://www.aljazeera.com/news/2024/10/23/us-election-13-days-left-what-polls-say-what-harris-and-trump-are-up), [Reuters](https://www.reuters.com/world/us/us-election-live-harris-trump-locked-race-white-house-2024-10-21/)\"\n",
            "}\n",
            "```\u001b[0m\n",
            "\n",
            "\u001b[1m> Finished chain.\u001b[0m\n"
          ]
        },
        {
          "output_type": "execute_result",
          "data": {
            "text/plain": [
              "{'input': ' what is the latest news about elections in usa?',\n",
              " 'chat_history': [],\n",
              " 'output': \"The latest news about elections in the USA includes Vice President Kamala Harris calling Trump 'unfit' based on remarks by John Kelly, Trump's former White House chief of staff. Election Day is approaching with Harris and Trump campaigning actively. Early voting has started in several states. For more details, you can visit the following links: [NY Times](https://www.nytimes.com/live/2024/10/23/us/harris-trump-election/heres-the-latest-on-the-presidential-race), [CNN Politics](https://www.cnn.com/politics/live-news/trump-harris-election-10-22-24/index.html), [Al Jazeera](https://www.aljazeera.com/news/2024/10/23/us-election-13-days-left-what-polls-say-what-harris-and-trump-are-up), [Reuters](https://www.reuters.com/world/us/us-election-live-harris-trump-locked-race-white-house-2024-10-21/)\"}"
            ]
          },
          "metadata": {},
          "execution_count": 184
        }
      ]
    },
    {
      "cell_type": "code",
      "source": [
        "conversational_agent(\"Do we have anu NFL game today?\")"
      ],
      "metadata": {
        "colab": {
          "base_uri": "https://localhost:8080/"
        },
        "id": "7gWHoQs2jivB",
        "outputId": "53139418-8419-470c-f64e-270557437b54"
      },
      "execution_count": 185,
      "outputs": [
        {
          "output_type": "stream",
          "name": "stdout",
          "text": [
            "\n",
            "\n",
            "\u001b[1m> Entering new AgentExecutor chain...\u001b[0m\n",
            "\u001b[32;1m\u001b[1;3m```json\n",
            "{\n",
            "    \"action\": \"search_tool\",\n",
            "    \"action_input\": \"NFL games schedule today\"\n",
            "}\n",
            "```\u001b[0m\n",
            "Observation: \u001b[36;1m\u001b[1;3msnippet: The Sporting News has you covered with everything that you need to know to watch the NFL today. NFL games on TV today Thursday, Oct. 17. Game Time (ET) ... Full NFL schedule for all 272 games in 2024;, title: NFL games on TV today: Full schedule, times, channels, live streams to ..., link: https://www.sportingnews.com/us/nfl/news/nfl-games-tv-today-schedule-times-channels-live-streams-watch/23bcab387c84e5144f0d5a04, snippet: LIVE: Follow Bears vs. Jaguars updates from NFL London game. NFL games on TV today Thursday, Oct. 10. Game Time (ET) TV channel; ... Full NFL schedule for all 272 games in 2024;, title: NFL games on TV today: Full schedule, times, channels, live streams to ..., link: https://www.sportingnews.com/us/nfl/news/nfl-games-tv-today-schedule-times-channels-live-streams-watch/949170efa23ed2b71da4b6b8, snippet: Here's what to know about Sunday's slate of games for Week 7: NFL schedule today: Week 7. New England Patriots (1-5) vs. Jacksonville Jaguars (1-5) Seattle Seahawks (3-3) at Atlanta Falcons (4-2), title: NFL TV schedule today: Week 7 channels, times for Sunday games, link: https://www.usatoday.com/story/sports/nfl/2024/10/20/nfl-games-today-week-7-tv-channels-schedule-watch/75706452007/, snippet: The official source for NFL news, video highlights, fantasy football, game-day coverage, schedules, stats, scores and more., title: NFL Network Schedule | NFL.com, link: https://www.nfl.com/network/schedule/1729728000\u001b[0m\n",
            "Thought:\u001b[32;1m\u001b[1;3m```json\n",
            "{\n",
            "    \"action\": \"Final Answer\",\n",
            "    \"action_input\": \"The NFL games schedule for today includes the New England Patriots vs. Jacksonville Jaguars and the Seattle Seahawks at Atlanta Falcons. You can find more details on the NFL games today at https://www.sportingnews.com/us/nfl/news/nfl-games-tv-today-schedule-times-channels-live-streams-watch/23bcab387c84e5144f0d5a04\"\n",
            "}\n",
            "```\u001b[0m\n",
            "\n",
            "\u001b[1m> Finished chain.\u001b[0m\n"
          ]
        },
        {
          "output_type": "execute_result",
          "data": {
            "text/plain": [
              "{'input': 'Do we have anu NFL game today?',\n",
              " 'chat_history': [HumanMessage(content=' what is the latest news about elections in usa?', additional_kwargs={}, response_metadata={}),\n",
              "  AIMessage(content=\"The latest news about elections in the USA includes Vice President Kamala Harris calling Trump 'unfit' based on remarks by John Kelly, Trump's former White House chief of staff. Election Day is approaching with Harris and Trump campaigning actively. Early voting has started in several states. For more details, you can visit the following links: [NY Times](https://www.nytimes.com/live/2024/10/23/us/harris-trump-election/heres-the-latest-on-the-presidential-race), [CNN Politics](https://www.cnn.com/politics/live-news/trump-harris-election-10-22-24/index.html), [Al Jazeera](https://www.aljazeera.com/news/2024/10/23/us-election-13-days-left-what-polls-say-what-harris-and-trump-are-up), [Reuters](https://www.reuters.com/world/us/us-election-live-harris-trump-locked-race-white-house-2024-10-21/)\", additional_kwargs={}, response_metadata={})],\n",
              " 'output': 'The NFL games schedule for today includes the New England Patriots vs. Jacksonville Jaguars and the Seattle Seahawks at Atlanta Falcons. You can find more details on the NFL games today at https://www.sportingnews.com/us/nfl/news/nfl-games-tv-today-schedule-times-channels-live-streams-watch/23bcab387c84e5144f0d5a04'}"
            ]
          },
          "metadata": {},
          "execution_count": 185
        }
      ]
    },
    {
      "cell_type": "code",
      "source": [
        "conversational_agent(\"Who is Newton?\")"
      ],
      "metadata": {
        "colab": {
          "base_uri": "https://localhost:8080/"
        },
        "id": "XmPXNclyfSrc",
        "outputId": "c2a92441-3ea2-4eeb-964e-20ba44fef732"
      },
      "execution_count": 186,
      "outputs": [
        {
          "output_type": "stream",
          "name": "stdout",
          "text": [
            "\n",
            "\n",
            "\u001b[1m> Entering new AgentExecutor chain...\u001b[0m\n",
            "\u001b[32;1m\u001b[1;3m```json\n",
            "{\n",
            "    \"action\": \"search_tool\",\n",
            "    \"action_input\": \"Newton\"\n",
            "}\n",
            "```\u001b[0m\n",
            "Observation: \u001b[36;1m\u001b[1;3msnippet: Isaac Newton (1642-1726) was a key figure in the Scientific Revolution and the Enlightenment, who developed classical mechanics, universal gravitation, calculus, optics, and alchemy. He is often regarded as the father of physics for his contributions to natural philosophy and astronomy., title: Isaac Newton - Wikipedia, link: https://en.wikipedia.org/wiki/Isaac_Newton, snippet: Isaac Newton (born December 25, 1642 [January 4, 1643, New Style], Woolsthorpe, Lincolnshire, England—died March 20 [March 31], 1727, London) was an English physicist and mathematician who was the culminating figure of the Scientific Revolution of the 17th century. In optics, his discovery of the composition of white light integrated the phenomena of colours into the science of light and ..., title: Isaac Newton | Biography, Facts, Discoveries, Laws, & Inventions ..., link: https://www.britannica.com/biography/Isaac-Newton, snippet: Learn about the three statements describing the relations between forces and motion, first formulated by Isaac Newton. Find out the definition, examples, history and importance of Newton's first law, also known as the law of inertia., title: Newton's laws of motion | Definition, Examples, & History | Britannica, link: https://www.britannica.com/science/Newtons-laws-of-motion, snippet: Learn the three physical laws that describe the relationship between the motion of an object and the forces acting on it, and how they form the basis for Newtonian mechanics. Find out the prerequisites, history, and limitations of Newton's laws, and how they relate to other formulations of classical physics and physical theories., title: Newton's laws of motion - Wikipedia, link: https://en.wikipedia.org/wiki/Newton's_laws_of_motion\u001b[0m\n",
            "Thought:\u001b[32;1m\u001b[1;3m```json\n",
            "{\n",
            "    \"action\": \"Final Answer\",\n",
            "    \"action_input\": \"Isaac Newton (1642-1726) was a key figure in the Scientific Revolution and the Enlightenment, who developed classical mechanics, universal gravitation, calculus, optics, and alchemy. He is often regarded as the father of physics for his contributions to natural philosophy and astronomy.\"\n",
            "}\n",
            "```\u001b[0m\n",
            "\n",
            "\u001b[1m> Finished chain.\u001b[0m\n"
          ]
        },
        {
          "output_type": "execute_result",
          "data": {
            "text/plain": [
              "{'input': 'Who is Newton?',\n",
              " 'chat_history': [HumanMessage(content=' what is the latest news about elections in usa?', additional_kwargs={}, response_metadata={}),\n",
              "  AIMessage(content=\"The latest news about elections in the USA includes Vice President Kamala Harris calling Trump 'unfit' based on remarks by John Kelly, Trump's former White House chief of staff. Election Day is approaching with Harris and Trump campaigning actively. Early voting has started in several states. For more details, you can visit the following links: [NY Times](https://www.nytimes.com/live/2024/10/23/us/harris-trump-election/heres-the-latest-on-the-presidential-race), [CNN Politics](https://www.cnn.com/politics/live-news/trump-harris-election-10-22-24/index.html), [Al Jazeera](https://www.aljazeera.com/news/2024/10/23/us-election-13-days-left-what-polls-say-what-harris-and-trump-are-up), [Reuters](https://www.reuters.com/world/us/us-election-live-harris-trump-locked-race-white-house-2024-10-21/)\", additional_kwargs={}, response_metadata={}),\n",
              "  HumanMessage(content='Do we have anu NFL game today?', additional_kwargs={}, response_metadata={}),\n",
              "  AIMessage(content='The NFL games schedule for today includes the New England Patriots vs. Jacksonville Jaguars and the Seattle Seahawks at Atlanta Falcons. You can find more details on the NFL games today at https://www.sportingnews.com/us/nfl/news/nfl-games-tv-today-schedule-times-channels-live-streams-watch/23bcab387c84e5144f0d5a04', additional_kwargs={}, response_metadata={})],\n",
              " 'output': 'Isaac Newton (1642-1726) was a key figure in the Scientific Revolution and the Enlightenment, who developed classical mechanics, universal gravitation, calculus, optics, and alchemy. He is often regarded as the father of physics for his contributions to natural philosophy and astronomy.'}"
            ]
          },
          "metadata": {},
          "execution_count": 186
        }
      ]
    },
    {
      "cell_type": "code",
      "source": [
        "conversational_agent(\"What are some of the coolest place to visit in michigan?\")"
      ],
      "metadata": {
        "colab": {
          "base_uri": "https://localhost:8080/"
        },
        "id": "ylDPRAlKfdSW",
        "outputId": "7f8ea308-6c32-4155-eea1-3d3994095c58"
      },
      "execution_count": 179,
      "outputs": [
        {
          "output_type": "stream",
          "name": "stdout",
          "text": [
            "\n",
            "\n",
            "\u001b[1m> Entering new AgentExecutor chain...\u001b[0m\n",
            "\u001b[32;1m\u001b[1;3m```json\n",
            "{\n",
            "    \"action\": \"search_engine\",\n",
            "    \"action_input\": \"Coolest places to visit in Michigan\"\n",
            "}\n",
            "```\u001b[0m\n",
            "Observation: \u001b[36;1m\u001b[1;3m[{'title': 'Detroit Institute of Arts', 'link': 'https://www.google.com#', 'description': 'Art museum', 'rating': 4.8, 'reviews': 12000, 'price': '$23.50', 'extracted_price': 23.5, 'thumbnail': 'https://serpapi.com/searches/67193b132e33c8244ee1cdfe/images/f21325255fc6294e64ba0ee799341b226999376177866d1c16bfdc9166143df3.jpeg'}, {'title': 'Henry Ford Museum of American Innovation', 'link': 'https://www.google.com#', 'description': 'Museum', 'rating': 4.8, 'reviews': 28000, 'price': '$46.00', 'extracted_price': 46.0, 'thumbnail': 'https://serpapi.com/searches/67193b132e33c8244ee1cdfe/images/f21325255fc6294e64ba0ee799341b22dc8d55c6ed2a2d225b5d44de0339daa7.jpeg'}, {'title': 'Frederik Meijer Gardens & Sculpture Park', 'link': 'https://www.google.com#', 'description': 'Botanical garden', 'rating': 4.8, 'reviews': 13000, 'price': '$20.00', 'extracted_price': 20.0, 'thumbnail': 'https://serpapi.com/searches/67193b132e33c8244ee1cdfe/images/f21325255fc6294e64ba0ee799341b22aaaf277e827554f2c0dd879d3f2f167c.jpeg'}, {'title': 'Traverse City', 'link': 'https://www.google.com#', 'description': 'Locality', 'thumbnail': 'https://serpapi.com/searches/67193b132e33c8244ee1cdfe/images/f21325255fc6294e64ba0ee799341b22f1a4a3684384566bf3cae2beebcddae3.jpeg'}, {'title': 'Detroit', 'link': 'https://www.google.com#', 'description': 'Locality', 'thumbnail': 'https://lh5.googleusercontent.com/p/AF1QipPz1bS8jWh9OkHH_cfZtOzX2X5Tmwmj23YdlO0v=w148-h148-n-k-no'}, {'title': 'Sleeping Bear Dunes National Lakeshore', 'link': 'https://www.google.com#', 'description': 'Marine protected area', 'price': '$25.00', 'extracted_price': 25.0, 'thumbnail': 'https://lh5.googleusercontent.com/p/AF1QipPVDxSqXm-bh_fmn-3F8WkzbfoNqBmLtSK7AnOV=w148-h148-n-k-no'}, {'title': 'Motown Museum', 'link': 'https://www.google.com#', 'description': 'Museum', 'rating': 4.7, 'reviews': 5700, 'price': '$20.00', 'extracted_price': 20.0, 'thumbnail': 'https://lh5.googleusercontent.com/p/AF1QipMyQw7nw3dyi99509KSb-97al2y1RdQ7vv3L385=w148-h148-n-k-no'}, {'title': 'Isle Royale', 'link': 'https://www.google.com#', 'description': 'Island', 'rating': 4.9, 'reviews': 70, 'thumbnail': 'https://lh5.googleusercontent.com/p/AF1QipP_fMjp_aQZqNWdib5GN6VE5rVMLcQtndlGHCKo=w148-h148-n-k-no'}, {'title': 'Pictured Rocks National Lakeshore', 'link': 'https://www.google.com#', 'description': 'Park', 'rating': 4.9, 'reviews': 7500, 'price': '$25.00', 'extracted_price': 25.0, 'thumbnail': 'https://lh5.googleusercontent.com/p/AF1QipN32WIyrCEzAGykhWnCWbw2qM8MLgrb6JXfxLyD=w148-h148-n-k-no'}, {'title': 'Mackinac Island', 'link': 'https://www.google.com#', 'description': 'Island', 'rating': 4.8, 'reviews': 884, 'thumbnail': 'https://lh5.googleusercontent.com/p/AF1QipP3R4vzyh4AWYhXN-G_qOAcmXRf9n38msG0-x80=w148-h148-n-k-no'}, {'title': 'Frankenmuth', 'link': 'https://www.google.com#', 'description': 'Locality', 'thumbnail': 'https://lh5.googleusercontent.com/p/AF1QipM2NZ7wY4Y33CM3b1lR2kZnyh-5GzYxr_NQDSir=w148-h148-n-k-no'}, {'title': 'Grand Rapids', 'link': 'https://www.google.com#', 'description': 'Locality', 'thumbnail': 'https://lh5.googleusercontent.com/p/AF1QipOTPA9juUqIkn71Bxfe90Q5cjz-Y4tHKwmsghBN=w148-h148-n-k-no'}, {'title': 'Holland', 'link': 'https://www.google.com#', 'description': 'Locality', 'thumbnail': 'https://lh3.googleusercontent.com/proxy/4IdthVopIwrqGwjzonECVOf11El4HSuH4e9va9WN9tjjRJvjV_Jxf4_7SUcE0bFAhrIr0_ihZvNlhrEtQANyZ4Ck-npDNUVx1--RCsahukQpsS1nafQBxNRYMAZVPKcWBiUr3bQOD2Te_CiWfd-LudNO-imyIWg=w148-h148-n-k-no'}, {'title': 'Pictured Rocks', 'link': 'https://www.google.com#', 'description': 'Cliff', 'rating': 4.9, 'reviews': 136, 'thumbnail': 'https://lh5.googleusercontent.com/p/AF1QipMg0BBrKLD1ge_h4KPIgBdUrHyyIl64CnlkEF9T=w148-h148-n-k-no'}, {'title': 'Mackinac Island', 'link': 'https://www.google.com#', 'description': 'Locality', 'thumbnail': 'https://lh5.googleusercontent.com/p/AF1QipP3R4vzyh4AWYhXN-G_qOAcmXRf9n38msG0-x80=w148-h148-n-k-no'}, {'title': 'Tahquamenon Falls', 'link': 'https://www.google.com#', 'description': 'Waterfall', 'rating': 4.9, 'reviews': 894, 'thumbnail': 'https://lh5.googleusercontent.com/p/AF1QipNlx5Miljh8opzO5gwEK5HQ7KNJoYkOYp9JM3y4=w148-h148-n-k-no'}, {'title': 'Detroit Zoo', 'link': 'https://www.google.com#', 'description': 'Zoo', 'rating': 4.5, 'reviews': 24000, 'price': '$14.00', 'extracted_price': 14.0, 'thumbnail': 'https://lh5.googleusercontent.com/p/AF1QipOt_MY0etM5fVsgsvehcIVgNcdhCP33AiJ1Pyhg=w148-h148-n-k-no'}, {'title': 'Ann Arbor', 'link': 'https://www.google.com#', 'description': 'Locality', 'thumbnail': 'https://lh5.googleusercontent.com/p/AF1QipNYWqeNCfBTJobPRr2Gjn5yC9qSbdEDlREUXGkp=w148-h148-n-k-no'}, {'title': 'Saugatuck', 'link': 'https://www.google.com#', 'description': 'Locality', 'thumbnail': 'https://lh5.googleusercontent.com/p/AF1QipN-x6TeI9oLfXsmXXDFMqbGhUYvQy4s2NNbtpq0=w148-h148-n-k-no'}, {'title': 'Kitch-iti-kipi', 'link': 'https://www.google.com#', 'description': 'Scenic spot', 'rating': 4.8, 'reviews': 6700, 'price': '$11.00', 'extracted_price': 11.0, 'thumbnail': 'https://lh5.googleusercontent.com/p/AF1QipPPkqH6nkePJAAoDL0S4XUMGCOqddLpK_TGgwl0=w148-h148-n-k-no'}]\u001b[0m\n",
            "Thought:\u001b[32;1m\u001b[1;3m```json\n",
            "{\n",
            "    \"action\": \"Final Answer\",\n",
            "    \"action_input\": \"Some of the coolest places to visit in Michigan are: Detroit Institute of Arts, Henry Ford Museum of American Innovation, Frederik Meijer Gardens & Sculpture Park, Traverse City, Detroit, Sleeping Bear Dunes National Lakeshore, Motown Museum, Isle Royale, Pictured Rocks National Lakeshore, Mackinac Island, Frankenmuth, Grand Rapids, Holland, Pictured Rocks, Tahquamenon Falls, Detroit Zoo, Ann Arbor, Saugatuck, and Kitch-iti-kipi.\"\n",
            "}\n",
            "```\u001b[0m\n",
            "\n",
            "\u001b[1m> Finished chain.\u001b[0m\n"
          ]
        },
        {
          "output_type": "execute_result",
          "data": {
            "text/plain": [
              "{'input': 'What are some of the coolest place to visit in michigan?',\n",
              " 'chat_history': [HumanMessage(content='Do we have anu NFL game today?', additional_kwargs={}, response_metadata={}),\n",
              "  AIMessage(content='The NFL games schedule for today includes matchups such as New England Patriots vs. Jacksonville Jaguars and Seattle Seahawks at Atlanta Falcons. You can find more details on the schedule and how to watch the games online or on TV.', additional_kwargs={}, response_metadata={}),\n",
              "  HumanMessage(content='Who is Newton?', additional_kwargs={}, response_metadata={}),\n",
              "  AIMessage(content=\"Isaac Newton was an English physicist and mathematician who made groundbreaking contributions to physics, mathematics, astronomy, and more. He is known for his laws of motion, universal gravitation, and calculus. Newton's work has had a profound impact on the field of science and his legacy continues to influence modern physics and mathematics.\", additional_kwargs={}, response_metadata={})],\n",
              " 'output': 'Some of the coolest places to visit in Michigan are: Detroit Institute of Arts, Henry Ford Museum of American Innovation, Frederik Meijer Gardens & Sculpture Park, Traverse City, Detroit, Sleeping Bear Dunes National Lakeshore, Motown Museum, Isle Royale, Pictured Rocks National Lakeshore, Mackinac Island, Frankenmuth, Grand Rapids, Holland, Pictured Rocks, Tahquamenon Falls, Detroit Zoo, Ann Arbor, Saugatuck, and Kitch-iti-kipi.'}"
            ]
          },
          "metadata": {},
          "execution_count": 179
        }
      ]
    },
    {
      "cell_type": "code",
      "source": [
        "result =conversational_agent(\" what is the temperature in michigan?\")"
      ],
      "metadata": {
        "colab": {
          "base_uri": "https://localhost:8080/"
        },
        "id": "3t8VSvyhgmRI",
        "outputId": "f3f1d6a4-9c63-419d-af94-42e119d0539f"
      },
      "execution_count": 187,
      "outputs": [
        {
          "output_type": "stream",
          "name": "stdout",
          "text": [
            "\n",
            "\n",
            "\u001b[1m> Entering new AgentExecutor chain...\u001b[0m\n",
            "\u001b[32;1m\u001b[1;3m```json\n",
            "{\n",
            "    \"action\": \"search_engine\",\n",
            "    \"action_input\": \"current temperature in Michigan\"\n",
            "}\n",
            "```\u001b[0m\n",
            "Observation: \u001b[38;5;200m\u001b[1;3m{'type': 'weather_result', 'temperature': '67', 'unit': 'Fahrenheit', 'precipitation': '1%', 'humidity': '59%', 'wind': '11 mph', 'location': 'Michigan', 'date': 'Wednesday 2:00 PM', 'weather': 'Mostly cloudy'}\u001b[0m\n",
            "Thought:\u001b[32;1m\u001b[1;3m```json\n",
            "{\n",
            "    \"action\": \"Final Answer\",\n",
            "    \"action_input\": \"The current temperature in Michigan is 67 degrees Fahrenheit with 1% precipitation, 59% humidity, and 11 mph wind. The weather is mostly cloudy as of Wednesday at 2:00 PM.\"\n",
            "}\n",
            "```\u001b[0m\n",
            "\n",
            "\u001b[1m> Finished chain.\u001b[0m\n"
          ]
        }
      ]
    },
    {
      "cell_type": "code",
      "source": [
        "result['output']"
      ],
      "metadata": {
        "colab": {
          "base_uri": "https://localhost:8080/",
          "height": 53
        },
        "id": "Jmh0dPSzlZGR",
        "outputId": "e24cfac2-2326-45f0-a8d8-f7b98cbe805d"
      },
      "execution_count": 189,
      "outputs": [
        {
          "output_type": "execute_result",
          "data": {
            "text/plain": [
              "'The current temperature in Michigan is 67 degrees Fahrenheit with 1% precipitation, 59% humidity, and 11 mph wind. The weather is mostly cloudy as of Wednesday at 2:00 PM.'"
            ],
            "application/vnd.google.colaboratory.intrinsic+json": {
              "type": "string"
            }
          },
          "metadata": {},
          "execution_count": 189
        }
      ]
    },
    {
      "cell_type": "code",
      "source": [],
      "metadata": {
        "id": "1I1HVa9Vljno"
      },
      "execution_count": null,
      "outputs": []
    }
  ]
}